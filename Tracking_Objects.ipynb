{
  "cells": [
    {
      "cell_type": "code",
      "execution_count": 1,
      "id": "611df00c",
      "metadata": {
        "id": "611df00c",
        "colab": {
          "base_uri": "https://localhost:8080/"
        },
        "outputId": "7debd403-07ec-4866-fda4-ea57f52dfb31"
      },
      "outputs": [
        {
          "output_type": "stream",
          "name": "stdout",
          "text": [
            "Mounted at /content/drive\n"
          ]
        }
      ],
      "source": [
        "import numpy as np\n",
        "import matplotlib.pyplot as plt\n",
        "import cv2\n",
        "import shutil\n",
        "import glob\n",
        "from google.colab import drive\n",
        "drive.mount('/content/drive')\n",
        "root_path = '/content/drive/MyDrive/cv_assig_5/'"
      ]
    },
    {
      "cell_type": "code",
      "source": [
        "def affine_warp(p):\n",
        "    return np.hstack([np.eye(2), np.zeros((2, 1))]) + p.reshape((2, 3), order='F')"
      ],
      "metadata": {
        "id": "qxB68KlMXL0f"
      },
      "id": "qxB68KlMXL0f",
      "execution_count": 2,
      "outputs": []
    },
    {
      "cell_type": "code",
      "execution_count": 3,
      "id": "bb0cbbeb",
      "metadata": {
        "id": "bb0cbbeb"
      },
      "outputs": [],
      "source": [
        "def update_affine_parameters(coordinates, template, img, x1, x2, y1, y2, p, Ix, Iy):\n",
        "    \"\"\"Update affine parameters using Lucas-Kanade algorithm.\"\"\"\n",
        "    v = np.array([[x1, x1, x2, x2], [y1, y2, y2, y1], [1, 1, 1, 1]])\n",
        "\n",
        "    # Apply affine transformation to coordinates\n",
        "    affine = affine_warp(p)\n",
        "    v = np.dot(affine, v)\n",
        "    new_coordinates = np.dot(affine, coordinates).astype(int)\n",
        "\n",
        "    # Fix boundaries\n",
        "    new_coordinates[new_coordinates < 0] = 0\n",
        "    new_coordinates[0][new_coordinates[0] >= img.shape[1]] = img.shape[1] - 1\n",
        "    new_coordinates[1][new_coordinates[1] >= img.shape[0]] = img.shape[0] - 1\n",
        "\n",
        "    # Warp image\n",
        "    img_arr = img[new_coordinates[1, :], new_coordinates[0, :]].reshape(1, -1)\n",
        "\n",
        "    b = template - img_arr\n",
        "\n",
        "    # Calculate gradients\n",
        "    sx = Ix[new_coordinates[1, :], new_coordinates[0, :]].reshape(1, -1)\n",
        "    sy = Iy[new_coordinates[1, :], new_coordinates[0, :]].reshape(1, -1)\n",
        "\n",
        "    # Build matrix A\n",
        "    A = np.vstack((sx * coordinates[0, :], sy * coordinates[0, :],\n",
        "                   sx * coordinates[1, :], sy * coordinates[1, :],\n",
        "                   sx, sy)).T\n",
        "\n",
        "    # Calculate Hessian and delta_p\n",
        "    Hessian = A.T @ A\n",
        "    Hessian_inverse = np.linalg.pinv(Hessian)\n",
        "    delta_p = Hessian_inverse @ (A.T @ b.T)\n",
        "\n",
        "    # Calculate norm of delta p\n",
        "    p_norm = np.linalg.norm(delta_p)\n",
        "\n",
        "    # Update p\n",
        "    p = p.reshape(6, 1) + delta_p\n",
        "\n",
        "    return p, p_norm, v"
      ]
    },
    {
      "cell_type": "code",
      "execution_count": 4,
      "id": "4b171395",
      "metadata": {
        "id": "4b171395"
      },
      "outputs": [],
      "source": [
        "def Lucas_Kanade(img_frame, template_frame, x1, y1, w, h, p):\n",
        "    \"\"\"Lucas-Kanade object tracking algorithm.\"\"\"\n",
        "    max_iterations = 100\n",
        "    threshold = 1e-4\n",
        "    x2 = x1 + w\n",
        "    y2 = y1 + h\n",
        "\n",
        "    norm_frame = (img_frame * (np.mean(template_frame) / np.mean(img_frame))).astype(float)\n",
        "    template_window_coordinates = np.zeros((3, (w + 1) * (h + 1)))\n",
        "\n",
        "    # Generate coordinates for the template window\n",
        "    for y in range(y1, y2 + 1):\n",
        "        for x in range(x1, x2 + 1):\n",
        "            template_window_coordinates[0, (y - y1) * (x2 - x1) + (x - x1)] = x\n",
        "            template_window_coordinates[1, (y - y1) * (x2 - x1) + (x - x1)] = y\n",
        "            template_window_coordinates[2, (y - y1) * (x2 - x1) + (x - x1)] = 1\n",
        "    template_window_coordinates = template_window_coordinates.astype(int)\n",
        "\n",
        "    # Extract intensities at template coordinates\n",
        "    template_frame_intensities = template_frame[template_window_coordinates[1, :], template_window_coordinates[0, :]].reshape(1, -1)\n",
        "\n",
        "    Ix = cv2.Sobel(norm_frame, cv2.CV_64F, 1, 0, ksize=3)\n",
        "    Iy = cv2.Sobel(norm_frame, cv2.CV_64F, 0, 1, ksize=3)\n",
        "\n",
        "    original_p_norm = float('inf')\n",
        "    curr_iteration = 0\n",
        "\n",
        "    while original_p_norm > threshold and curr_iteration < max_iterations:\n",
        "        curr_iteration += 1\n",
        "        returned_p, returned_p_norm, returned_vertex = update_affine_parameters(template_window_coordinates, template_frame_intensities, norm_frame, x1, x2, y1, y2, p, Ix, Iy)\n",
        "\n",
        "        if returned_p_norm < original_p_norm:\n",
        "            p = returned_p\n",
        "\n",
        "    out = cv2.polylines(img_frame, np.int32([returned_vertex.T]), 1, 0, 2)\n",
        "\n",
        "    return p, out"
      ]
    },
    {
      "cell_type": "code",
      "source": [
        "def track_object(video, rectangle, output_video_path, frame_size, frame_rate, num_frames):\n",
        "    \"\"\"Track object in a video and save the result.\"\"\"\n",
        "    fourcc = cv2.VideoWriter_fourcc('M', 'J', 'P', 'G')\n",
        "    outVideo = cv2.VideoWriter(output_video_path, fourcc, frame_rate, frame_size, isColor=False)\n",
        "\n",
        "    template = video[0].T\n",
        "    x, y, w, h = rectangle\n",
        "    p = np.array([[0, 0, 0, 0, 0, 0]]).T\n",
        "\n",
        "    for i in range(num_frames):\n",
        "        curr_frame = video[i].T.copy()\n",
        "        p, out = Lucas_Kanade(curr_frame, template, x, y, w, h, p)\n",
        "        outVideo.write(out.astype(np.uint8))\n",
        "\n",
        "    outVideo.release()\n",
        "    shutil.move(output_video_path, output_video_path)"
      ],
      "metadata": {
        "id": "VYQak52oJgg0"
      },
      "id": "VYQak52oJgg0",
      "execution_count": 5,
      "outputs": []
    },
    {
      "cell_type": "markdown",
      "id": "85218027",
      "metadata": {
        "id": "85218027"
      },
      "source": [
        "# car"
      ]
    },
    {
      "cell_type": "code",
      "source": [
        "video = np.load(root_path + 'car2.npy').T\n",
        "object_path = root_path + 'car.avi'\n",
        "bbox = (50, 108, 155 - 50, 162 - 108)\n",
        "track_object(video, bbox, object_path, video.shape[1:], 20, video.shape[0])\n",
        "print('done')"
      ],
      "metadata": {
        "id": "4_ZQw13PL2G5",
        "colab": {
          "base_uri": "https://localhost:8080/"
        },
        "outputId": "0fc46c0a-9b75-4ecf-832e-acc0f00e6cef"
      },
      "id": "4_ZQw13PL2G5",
      "execution_count": 6,
      "outputs": [
        {
          "output_type": "stream",
          "name": "stdout",
          "text": [
            "done\n"
          ]
        }
      ]
    },
    {
      "cell_type": "markdown",
      "id": "36bb5299",
      "metadata": {
        "id": "36bb5299"
      },
      "source": [
        "# landing"
      ]
    },
    {
      "cell_type": "code",
      "source": [
        "video = np.load(root_path + 'landing.npy').T\n",
        "object_path = root_path + 'landing.avi'\n",
        "bbox = (438, 88, 560 - 438, 130 - 88)\n",
        "track_object(video, bbox, object_path, video.shape[1:], 10, video.shape[0])\n",
        "print('done')"
      ],
      "metadata": {
        "id": "7IW4FetvOG-H",
        "colab": {
          "base_uri": "https://localhost:8080/"
        },
        "outputId": "3c060b85-0a16-4cf2-8c07-20e1a9219273"
      },
      "id": "7IW4FetvOG-H",
      "execution_count": 7,
      "outputs": [
        {
          "output_type": "stream",
          "name": "stdout",
          "text": [
            "done\n"
          ]
        }
      ]
    }
  ],
  "metadata": {
    "kernelspec": {
      "display_name": "Python 3 (ipykernel)",
      "language": "python",
      "name": "python3"
    },
    "language_info": {
      "codemirror_mode": {
        "name": "ipython",
        "version": 3
      },
      "file_extension": ".py",
      "mimetype": "text/x-python",
      "name": "python",
      "nbconvert_exporter": "python",
      "pygments_lexer": "ipython3",
      "version": "3.9.7"
    },
    "colab": {
      "provenance": []
    }
  },
  "nbformat": 4,
  "nbformat_minor": 5
}